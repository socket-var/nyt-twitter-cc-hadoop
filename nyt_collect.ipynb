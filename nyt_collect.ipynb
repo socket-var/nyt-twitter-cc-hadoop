{
 "cells": [
  {
   "cell_type": "code",
   "execution_count": 1,
   "metadata": {},
   "outputs": [],
   "source": [
    "import os\n",
    "from time import sleep\n",
    "import requests\n",
    "from dotenv import load_dotenv\n",
    "import pandas as pd\n",
    "\n",
    "load_dotenv()\n",
    "#1 get api key from .env file or env variable set in terminal\n",
    "nytimes_key = os.getenv(\"NYTIMES_KEY\")"
   ]
  },
  {
   "cell_type": "code",
   "execution_count": 2,
   "metadata": {},
   "outputs": [
    {
     "name": "stdout",
     "output_type": "stream",
     "text": [
      "Page 0 of 71\n",
      "Page 10 of 71\n",
      "Page 20 of 71\n",
      "Page 30 of 71\n",
      "Page 40 of 71\n",
      "Page 50 of 71\n",
      "Page 60 of 71\n",
      "Page 70 of 71\n"
     ]
    }
   ],
   "source": [
    "url = \"https://api.nytimes.com/svc/search/v2/articlesearch.json\"\n",
    "\n",
    "#2 change sub-topic name\n",
    "# american+football 299 - 29 pages\n",
    "# basketball 802 - 80 pages\n",
    "# baseball 641 - 64 pages\n",
    "# soccer 717 - 71 pages\n",
    "params = {'q': 'soccer', \n",
    "          'api-key': nytimes_key, 'page': 0, \n",
    "          'fl': '_id,web_url,pub_date,document_type,head_line,news_desk,source,subsection_name,snippet',\n",
    "          'fq': 'pub_year:2019'\n",
    "         }\n",
    "\n",
    "result_list = []\n",
    "\n",
    "\n",
    "#3 change number of pages here\n",
    "num_pages = 71\n",
    "for i in range(num_pages):\n",
    "    results = requests.get(url=url, params=params)\n",
    "    if params['page']%10 == 0:\n",
    "        print(\"Page %d of %d\" % (i, num_pages))\n",
    "    params['page'] += 1\n",
    "    data = results.json()\n",
    "    result_list += data['response']['docs']\n",
    "    sleep(7)"
   ]
  },
  {
   "cell_type": "code",
   "execution_count": 3,
   "metadata": {},
   "outputs": [
    {
     "data": {
      "text/plain": [
       "710"
      ]
     },
     "execution_count": 3,
     "metadata": {},
     "output_type": "execute_result"
    }
   ],
   "source": [
    "len(result_list)"
   ]
  },
  {
   "cell_type": "code",
   "execution_count": 4,
   "metadata": {},
   "outputs": [],
   "source": [
    "df = pd.DataFrame(result_list)"
   ]
  },
  {
   "cell_type": "code",
   "execution_count": 5,
   "metadata": {},
   "outputs": [],
   "source": [
    "df.to_csv(\"./input/raw/nyt_soccer.csv\")"
   ]
  },
  {
   "cell_type": "code",
   "execution_count": null,
   "metadata": {},
   "outputs": [],
   "source": []
  },
  {
   "cell_type": "code",
   "execution_count": null,
   "metadata": {},
   "outputs": [],
   "source": []
  },
  {
   "cell_type": "code",
   "execution_count": null,
   "metadata": {},
   "outputs": [],
   "source": []
  }
 ],
 "metadata": {
  "kernelspec": {
   "display_name": "Python 3",
   "language": "python",
   "name": "python3"
  },
  "language_info": {
   "codemirror_mode": {
    "name": "ipython",
    "version": 3
   },
   "file_extension": ".py",
   "mimetype": "text/x-python",
   "name": "python",
   "nbconvert_exporter": "python",
   "pygments_lexer": "ipython3",
   "version": "3.7.3"
  }
 },
 "nbformat": 4,
 "nbformat_minor": 1
}
