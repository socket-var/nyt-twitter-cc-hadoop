{
 "cells": [
  {
   "cell_type": "code",
   "execution_count": 2,
   "metadata": {},
   "outputs": [],
   "source": [
    "import os\n",
    "import requests\n",
    "from dotenv import load_dotenv\n",
    "import pandas as pd\n",
    "\n",
    "load_dotenv()\n",
    "#1 get api key from .env file or env variable set in terminal\n",
    "nytimes_key = os.getenv(\"NYTIMES_KEY\")"
   ]
  },
  {
   "cell_type": "code",
   "execution_count": 3,
   "metadata": {},
   "outputs": [],
   "source": [
    "url = \"https://api.nytimes.com/svc/search/v2/articlesearch.json\"\n",
    "\n",
    "#2 change sub-topic name\n",
    "# climate+change 80 pages\n",
    "# fake+news 50 pages\n",
    "# gun+control 35 pages\n",
    "# medicare+for+all 22 pages\n",
    "# brexit 95 pages\n",
    "# north+korea 50 pages\n",
    "params = {'q': 'climate+change', \n",
    "          'api-key': nytimes_key, 'page': 0, \n",
    "          'fl': '_id,web_url,pub_date,document_type,head_line,news_desk,source,subsection_name,snippet',\n",
    "          'fq': 'pub_year:2019'\n",
    "         }\n",
    "\n",
    "result_list = []\n",
    "\n",
    "\n",
    "#3 change number of pages here\n",
    "num_pages = 2\n",
    "for i in range(num_pages):\n",
    "    results = requests.get(url=url, params=params)\n",
    "    params['page'] += 1\n",
    "    data = results.json()\n",
    "    result_list += data['response']['docs']\n",
    "    "
   ]
  },
  {
   "cell_type": "code",
   "execution_count": 4,
   "metadata": {},
   "outputs": [
    {
     "data": {
      "text/plain": [
       "20"
      ]
     },
     "execution_count": 4,
     "metadata": {},
     "output_type": "execute_result"
    }
   ],
   "source": [
    "len(result_list)"
   ]
  },
  {
   "cell_type": "code",
   "execution_count": 7,
   "metadata": {},
   "outputs": [],
   "source": [
    "df = pd.DataFrame(result_list)"
   ]
  },
  {
   "cell_type": "code",
   "execution_count": 8,
   "metadata": {},
   "outputs": [],
   "source": [
    "#4 change file name here based on sub-topic\n",
    "df.to_csv(\"./nyt_out.csv\")"
   ]
  },
  {
   "cell_type": "code",
   "execution_count": null,
   "metadata": {},
   "outputs": [],
   "source": []
  }
 ],
 "metadata": {
  "kernelspec": {
   "display_name": "Python 3",
   "language": "python",
   "name": "python3"
  },
  "language_info": {
   "codemirror_mode": {
    "name": "ipython",
    "version": 3
   },
   "file_extension": ".py",
   "mimetype": "text/x-python",
   "name": "python",
   "nbconvert_exporter": "python",
   "pygments_lexer": "ipython3",
   "version": "3.7.3"
  }
 },
 "nbformat": 4,
 "nbformat_minor": 1
}
