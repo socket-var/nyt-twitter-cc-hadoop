{
 "cells": [
  {
   "cell_type": "code",
   "execution_count": 20,
   "metadata": {},
   "outputs": [],
   "source": [
    "import os\n",
    "import requests\n",
    "from dotenv import load_dotenv\n",
    "import pandas as pd\n",
    "\n",
    "load_dotenv()\n",
    "#1 get api key from .env file or env variable set in terminal\n",
    "nytimes_key = os.getenv(\"NYTIMES_KEY\")"
   ]
  },
  {
   "cell_type": "code",
   "execution_count": 88,
   "metadata": {},
   "outputs": [],
   "source": [
    "url = \"https://api.nytimes.com/svc/search/v2/articlesearch.json\"\n",
    "\n",
    "#2 change sub-topic name\n",
    "# climate+change 80 pages\n",
    "# fake+news 50 pages\n",
    "# gun+control 35 pages\n",
    "# medicare+for+all 22 pages\n",
    "# brexit 95 pages\n",
    "# north+korea 50 pages\n",
    "params = {'q': 'climate+change', \n",
    "          'api-key': nytimes_key, 'page': 0, \n",
    "          'fl': '_id,web_url,pub_date,document_type,head_line,news_desk,source,subsection_name,snippet',\n",
    "          'fq': 'pub_year:2019'\n",
    "         }\n",
    "\n",
    "result_list = []\n",
    "\n",
    "\n",
    "#3 change number of pages here\n",
    "num_pages = 2\n",
    "for i in range(num_pages):\n",
    "    results = requests.get(url=url, params=params)\n",
    "    params['page'] += 1\n",
    "    data = results.json()\n",
    "    result_list += data['response']['docs']\n",
    "    "
   ]
  },
  {
   "cell_type": "code",
   "execution_count": 89,
   "metadata": {},
   "outputs": [
    {
     "data": {
      "text/plain": [
       "20"
      ]
     },
     "execution_count": 89,
     "metadata": {},
     "output_type": "execute_result"
    }
   ],
   "source": [
    "len(result_list)"
   ]
  },
  {
   "cell_type": "code",
   "execution_count": 90,
   "metadata": {},
   "outputs": [],
   "source": [
    "df = pd.DataFrame(result_list)"
   ]
  },
  {
   "cell_type": "code",
   "execution_count": 91,
   "metadata": {},
   "outputs": [
    {
     "data": {
      "text/plain": [
       "0     https://www.nytimes.com/2019/02/09/opinion/sun...\n",
       "1     https://www.nytimes.com/2019/03/30/us/affirmat...\n",
       "2     https://www.nytimes.com/2019/03/30/us/affirmat...\n",
       "3     https://www.nytimes.com/2018/10/27/opinion/let...\n",
       "4     https://www.nytimes.com/2018/12/10/opinion/im-...\n",
       "5     https://www.nytimes.com/2018/10/19/opinion/har...\n",
       "6     https://www.nytimes.com/2019/01/03/opinion/aff...\n",
       "7     https://www.nytimes.com/2018/09/05/opinion/kav...\n",
       "8     https://www.nytimes.com/2018/09/28/business/at...\n",
       "9     https://www.nytimes.com/video/opinion/10000000...\n",
       "10    https://www.nytimes.com/2019/02/28/opinion/bay...\n",
       "11    https://www.nytimes.com/2018/10/15/us/harvard-...\n",
       "12    https://www.nytimes.com/2018/10/16/opinion/har...\n",
       "13    https://www.nytimes.com/2018/10/15/us/harvard-...\n",
       "14    https://www.nytimes.com/2019/01/18/us/unc-affi...\n",
       "15    https://www.nytimes.com/2018/11/15/us/universi...\n",
       "16    https://www.nytimes.com/2018/10/14/opinion/dc-...\n",
       "17    https://www.nytimes.com/2018/06/16/us/affirmat...\n",
       "18    https://www.nytimes.com/2018/08/09/us/chinese-...\n",
       "19    https://www.nytimes.com/2018/09/06/us/politics...\n",
       "Name: web_url, dtype: object"
      ]
     },
     "execution_count": 91,
     "metadata": {},
     "output_type": "execute_result"
    }
   ],
   "source": [
    "df = df['web_url']"
   ]
  },
  {
   "cell_type": "code",
   "execution_count": 54,
   "metadata": {},
   "outputs": [],
   "source": [
    "#4 change file name here based on sub-topic\n",
    "df.to_csv(\"./nyt_out.csv\")"
   ]
  },
  {
   "cell_type": "code",
   "execution_count": null,
   "metadata": {},
   "outputs": [],
   "source": []
  },
  {
   "cell_type": "code",
   "execution_count": null,
   "metadata": {},
   "outputs": [],
   "source": []
  }
 ],
 "metadata": {
  "kernelspec": {
   "display_name": "Python 3",
   "language": "python",
   "name": "python3"
  },
  "language_info": {
   "codemirror_mode": {
    "name": "ipython",
    "version": 3
   },
   "file_extension": ".py",
   "mimetype": "text/x-python",
   "name": "python",
   "nbconvert_exporter": "python",
   "pygments_lexer": "ipython3",
   "version": "3.7.3"
  }
 },
 "nbformat": 4,
 "nbformat_minor": 1
}
