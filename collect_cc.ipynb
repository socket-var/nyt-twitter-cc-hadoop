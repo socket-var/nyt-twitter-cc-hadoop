{
 "cells": [
  {
   "cell_type": "code",
   "execution_count": 1,
   "metadata": {},
   "outputs": [],
   "source": [
    "import requests\n",
    "import argparse\n",
    "import time\n",
    "import json\n",
    "import csv\n",
    "import codecs\n",
    "import sys\n",
    "import pandas as pd"
   ]
  },
  {
   "cell_type": "code",
   "execution_count": 2,
   "metadata": {},
   "outputs": [],
   "source": [
    "# domain = \"http://www.espn.com/nba/story/*\"\n",
    "# domain = \"http://www.espn.com/soccer/*\"\n",
    "# domain = \"http://www.espn.com/mlb/story/*\"\n",
    "domain = \"http://www.espn.com/golf/story/*\"\n",
    "# index_list = [\"2019-13\", \"2019-04\"]\n",
    "index_list = [\"2019-13\", \"2019-09\", \"2019-04\"]"
   ]
  },
  {
   "cell_type": "code",
   "execution_count": 3,
   "metadata": {},
   "outputs": [
    {
     "name": "stdout",
     "output_type": "stream",
     "text": [
      "Found a total of 2047 hits.\n"
     ]
    }
   ],
   "source": [
    "record_list = []\n",
    "\n",
    "for index in index_list:\n",
    "\n",
    "    cc_url = \"http://index.commoncrawl.org/CC-MAIN-%s-index?\" % index\n",
    "    cc_url += \"url=%s&output=json\" % domain\n",
    "\n",
    "    response = requests.get(cc_url)\n",
    "\n",
    "    if response.status_code == 200:\n",
    "\n",
    "        records = response.content.splitlines()\n",
    "\n",
    "        for record in records:\n",
    "            record_list.append(json.loads(record))\n",
    "\n",
    "print(\"Found a total of %d hits.\" % len(record_list))"
   ]
  },
  {
   "cell_type": "code",
   "execution_count": 4,
   "metadata": {},
   "outputs": [],
   "source": [
    "df = pd.DataFrame(record_list)"
   ]
  },
  {
   "cell_type": "code",
   "execution_count": 5,
   "metadata": {},
   "outputs": [],
   "source": [
    "df.to_csv(\"./input/raw/cc_golf.csv\")"
   ]
  },
  {
   "cell_type": "code",
   "execution_count": null,
   "metadata": {},
   "outputs": [],
   "source": []
  }
 ],
 "metadata": {
  "kernelspec": {
   "display_name": "Python 3",
   "language": "python",
   "name": "python3"
  },
  "language_info": {
   "codemirror_mode": {
    "name": "ipython",
    "version": 3
   },
   "file_extension": ".py",
   "mimetype": "text/x-python",
   "name": "python",
   "nbconvert_exporter": "python",
   "pygments_lexer": "ipython3",
   "version": "3.7.3"
  }
 },
 "nbformat": 4,
 "nbformat_minor": 2
}
